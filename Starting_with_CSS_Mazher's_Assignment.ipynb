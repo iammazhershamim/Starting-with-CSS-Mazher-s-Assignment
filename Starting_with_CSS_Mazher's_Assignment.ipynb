{
  "nbformat": 4,
  "nbformat_minor": 0,
  "metadata": {
    "colab": {
      "provenance": []
    },
    "kernelspec": {
      "name": "python3",
      "display_name": "Python 3"
    },
    "language_info": {
      "name": "python"
    }
  },
  "cells": [
    {
      "cell_type": "markdown",
      "source": [
        "# Q1.Create a simple page with some div tags and show different ways to add CSS as well as what happens when you target the same elements with inline, internal, and external CSS. Also, utilize comments in the project where required"
      ],
      "metadata": {
        "id": "2NL5MlP8zWYU"
      }
    },
    {
      "cell_type": "code",
      "source": [
        "%%html <!DOCTYPE html>\n",
        "<html>\n",
        "  <head>\n",
        "    <meta charset=\"UTF-8\">\n",
        "    <meta charset=\"viewport\" content=\"width=device-width, initial-scale=0.1\">\n",
        "    <title >CSS TEST</title>\n",
        "    <style>\n",
        "      .importandv{\n",
        "        color:red;\n",
        "        text-align: center;\n",
        "\n",
        "      }\n",
        "       /*  <!--this is  Internal CSS --> */\n",
        "    </style>\n",
        "\n",
        "    <link rel=\"stylesheet\" href=\"exampleexternal.css\">\n",
        "  </head>\n",
        "  <body>\n",
        "    <div>\n",
        "      <h1 class=\"tit1\">CSS test</h1>\n",
        "    </div>\n",
        "    <div>\n",
        "      <strong>\n",
        "        <!--this is inline css code-->\n",
        "      <p style=\"color:blue\">Hey this is my first inline css code</p></strong>\n",
        "\n",
        "    </div>\n",
        "    <div class=\"importandv\">\n",
        "      <p>this is internal css</p>\n",
        "    </div>\n",
        "    <div>\n",
        "      <footer class=\"foot\">hey this is external css</footer>>\n",
        "    </div>\n",
        "  </body>\n",
        "</html>"
      ],
      "metadata": {
        "colab": {
          "base_uri": "https://localhost:8080/",
          "height": 17
        },
        "id": "69lRxm6QzgcT",
        "outputId": "adf8ffff-7b6e-4a5c-f902-86a8011ed550"
      },
      "execution_count": 1,
      "outputs": [
        {
          "output_type": "display_data",
          "data": {
            "text/plain": [
              "<IPython.core.display.Javascript object>"
            ],
            "application/javascript": [
              "\n",
              "    async function download(id, filename, size) {\n",
              "      if (!google.colab.kernel.accessAllowed) {\n",
              "        return;\n",
              "      }\n",
              "      const div = document.createElement('div');\n",
              "      const label = document.createElement('label');\n",
              "      label.textContent = `Downloading \"${filename}\": `;\n",
              "      div.appendChild(label);\n",
              "      const progress = document.createElement('progress');\n",
              "      progress.max = size;\n",
              "      div.appendChild(progress);\n",
              "      document.body.appendChild(div);\n",
              "\n",
              "      const buffers = [];\n",
              "      let downloaded = 0;\n",
              "\n",
              "      const channel = await google.colab.kernel.comms.open(id);\n",
              "      // Send a message to notify the kernel that we're ready.\n",
              "      channel.send({})\n",
              "\n",
              "      for await (const message of channel.messages) {\n",
              "        // Send a message to notify the kernel that we're ready.\n",
              "        channel.send({})\n",
              "        if (message.buffers) {\n",
              "          for (const buffer of message.buffers) {\n",
              "            buffers.push(buffer);\n",
              "            downloaded += buffer.byteLength;\n",
              "            progress.value = downloaded;\n",
              "          }\n",
              "        }\n",
              "      }\n",
              "      const blob = new Blob(buffers, {type: 'application/binary'});\n",
              "      const a = document.createElement('a');\n",
              "      a.href = window.URL.createObjectURL(blob);\n",
              "      a.download = filename;\n",
              "      div.appendChild(a);\n",
              "      a.click();\n",
              "      div.remove();\n",
              "    }\n",
              "  "
            ]
          },
          "metadata": {}
        },
        {
          "output_type": "display_data",
          "data": {
            "text/plain": [
              "<IPython.core.display.Javascript object>"
            ],
            "application/javascript": [
              "download(\"download_28f0c657-41ca-4bfe-99fe-3d0aed8b08a9\", \"index.html\", 183)"
            ]
          },
          "metadata": {}
        }
      ]
    },
    {
      "cell_type": "code",
      "source": [
        "%%html .foot{\n",
        "  background-color: aqua;\n",
        "color:chartreuse;\n",
        "font-size: xx-large;\n",
        "text-align: center;\n",
        "font-family: 'Gill Sans', 'Gill Sans MT', Calibri, 'Trebuchet MS', sans-serif;\n",
        "}\n",
        ".tit1{\n",
        "  color:crimson;\n",
        "  background-color: antiquewhite;\n",
        "  text-align: center;\n",
        "  font-size: xx-large;\n",
        "  font-family: Verdana, Geneva, Tahoma, sans-serif;\n",
        "}"
      ],
      "metadata": {
        "id": "7DQdPiAE0T3q"
      },
      "execution_count": null,
      "outputs": []
    },
    {
      "cell_type": "markdown",
      "source": [
        "# Q2.Build an HTML page with multiple paragraphs, each assigned a unique class name. Write CSS rules using class selectors to apply distinct styling to each p"
      ],
      "metadata": {
        "id": "a8HbdjQS12WW"
      }
    },
    {
      "cell_type": "code",
      "source": [
        "%%html <!DOCTYPE html>\n",
        "<html lang=\"en\">\n",
        "<head>\n",
        "<meta charset=\"UTF-8\">\n",
        "<meta name=\"viewport\" content=\"width=device-width, initial-scale=0.1\">\n",
        "<title>multiple paragraphs : Test</title>\n",
        "   <link rel=\"stylesheet\" href=\"2.css\">\n",
        "</head>\n",
        "<body>\n",
        "\t<p class=p_intro>This is the introduction paragraph with a larger font size.</p>\n",
        "\t<p class=p_highlight>This paragraph is highlighted with a yellow background.</p>\n",
        "\t<p class=p_note>This is a note with a blue border to indicate importance.</p>\n",
        "\t<p class=p_bold>Warning! This paragraph is styled with red text and bold font.</p>\n",
        "</body>\n",
        "</html>"
      ],
      "metadata": {
        "id": "ncZu_xsf17u8"
      },
      "execution_count": null,
      "outputs": []
    },
    {
      "cell_type": "code",
      "source": [
        "%%html /*  intro paragraph styling */\n",
        ".p_intro{\n",
        "\tfont-family: sans-serif;\n",
        "\tbackground: rgb(199, 80, 80);\n",
        "\ttext-align: center;\n",
        "\tfont-size: x-large;\n",
        "\n",
        "\n",
        "}\n",
        "/*paragraph highlighet*/\n",
        ".p_highlight{\n",
        "\tbackground-color: yellow;\n",
        "\ttext-align: center;\n",
        "\tfont-size:larger;\n",
        "}\n",
        "\n",
        "/* this is note and border*/\n",
        ".p_note{\n",
        "\tborder-left:4px solid blue;\n",
        "\tpadding-left: 10px;\n",
        "\tcolor:0056b3;\n",
        "\tfont-size:x-large;\n",
        "}\n",
        "/*thsi is warning para*/\n",
        ".p_bold{\n",
        "\tcolor:red;\n",
        "\tfont-weight: bolder;\n",
        "\tfont-size: xx-large;\n",
        "}"
      ],
      "metadata": {
        "id": "jCv_BCcN2G6j"
      },
      "execution_count": null,
      "outputs": []
    },
    {
      "cell_type": "markdown",
      "source": [
        "#Q3.Develop an HTML form with various input elements. Use CSS to style the form, including setting background colors for input fields. Create a custom color palette for the form elements, and demonstrate how to apply opacity to one of the form sections."
      ],
      "metadata": {
        "id": "sPxTt_Zz2S2L"
      }
    },
    {
      "cell_type": "code",
      "source": [
        "%%html <!DOCTYPE html>\n",
        "<html lang=\"en\">\n",
        "<head>\n",
        "  <meta charset=\"UTF-8\">\n",
        "  <meta name=\"viewport\" content=\"width=device-width,initial-scale=2.1\">\n",
        "  <title>Form with css</title>\n",
        "  <link rel=\"stylesheet\" href=\"3.css\">\n",
        "</head>\n",
        "<body>\n",
        "  <div class=\"form-container\">\n",
        "    <!--Form container-->\n",
        "    <h2>Contact Us</h2>\n",
        "    <form>\n",
        "      <div class=\"form-section form-section--opaque\">\n",
        "        <!-- Personal Info  -->\n",
        "        <label for=\"name\">Name:</label> <!--name section-->\n",
        "        <input type=\"text\" id=\"name\" placeholder=\"Enter your Full name\">\n",
        "      <label for=\"email\">Email:</label><!--email section-->\n",
        "        <input type=\"email\" id=\"email\" placeholder=\"Enter your email\">\n",
        "      <label for=\"message\">Enter your valuable feedback:\n",
        "        </label>\n",
        "        <!-- message section -->\n",
        "      <textarea id=\"message\" placeholder=\"Here is write your feedback\"></textarea>\n",
        "      </div>\n",
        "      <button type=\"submit\">Submit</button>\n",
        "      <!-- button for submit -->\n",
        "    </form>\n",
        "  </div>\n",
        "</body>\n",
        "</html>"
      ],
      "metadata": {
        "id": "MUxq8F6O2Z6z"
      },
      "execution_count": null,
      "outputs": []
    },
    {
      "cell_type": "code",
      "source": [
        "%%html\n",
        "\n",
        "/* page styling */\n",
        "body{\n",
        "\n",
        "  background-color: #cdabab;\n",
        "  display: flex;\n",
        "  justify-content: center;\n",
        "  align-items: center;\n",
        "  height: 100vh;\n",
        "  margin: 0;\n",
        "\n",
        "\n",
        "\n",
        "\n",
        "}\n",
        "\n",
        "\n",
        "\n",
        "/* form container */\n",
        ".form-container{\n",
        "  background: rgb(255, 255, 255);\n",
        "  padding: 20px;\n",
        "  border-radius: 10px;\n",
        "box-shadow: 0 4px 40px;\n",
        "width: 220px;\n",
        "margin-bottom: 100px;\n",
        "\n",
        "}\n",
        "\n",
        ".form-section--opaque {\n",
        "  opacity: 0.7;\n",
        "}\n",
        "\n",
        "label {\n",
        "  display: block;\n",
        "  margin:5px 0;\n",
        "  font-weight: bold;\n",
        "}\n",
        "/* Input Fields */\n",
        "input, textarea {\n",
        "  width: 100%;\n",
        "  padding: 8px;\n",
        "  margin-top: 5px;\n",
        "  border: 2px solid hsl(0, 0%, 80%);\n",
        "  border-radius: 5px;\n",
        "  background-color: antiquewhite;\n",
        "}\n",
        "/* Submit Button */\n",
        "button {\n",
        "  width: 100%;\n",
        "  padding: 5px;\n",
        "  background-color: var(--button-bg);\n",
        "  color: rgb(14, 1, 8);\n",
        "  border:rgb(203, 24, 158)\n",
        "  border-radius: 5px;\n",
        "  cursor:pointer;\n",
        "}\n",
        "\n",
        "button:hover {\n",
        "  background-color:rgb(214, 187, 196);\n",
        "}"
      ],
      "metadata": {
        "id": "6zHf8wAU2grL"
      },
      "execution_count": null,
      "outputs": []
    }
  ]
}